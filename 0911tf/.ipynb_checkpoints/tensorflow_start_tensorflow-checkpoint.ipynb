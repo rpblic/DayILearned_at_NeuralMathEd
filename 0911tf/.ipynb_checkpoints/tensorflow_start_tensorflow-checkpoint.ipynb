{
 "cells": [
  {
   "cell_type": "code",
   "execution_count": 1,
   "metadata": {
    "collapsed": true
   },
   "outputs": [
    {
     "name": "stderr",
     "output_type": "stream",
     "text": [
      "c:\\winpython36-64bit\\python-3.6.1.amd64\\lib\\site-packages\\h5py\\__init__.py:34: FutureWarning: Conversion of the second argument of issubdtype from `float` to `np.floating` is deprecated. In future, it will be treated as `np.float64 == np.dtype(float).type`.\n",
      "  from ._conv import register_converters as _register_converters\n"
     ]
    },
    {
     "name": "stdout",
     "output_type": "stream",
     "text": [
      "3.6.1 (v3.6.1:69c0db5, Mar 21 2017, 18:41:36) [MSC v.1900 64 bit (AMD64)]\n",
      "1.10.0\n"
     ]
    }
   ],
   "source": [
    "import tensorflow as tf\n",
    "import sys\n",
    "print(sys.version)\n",
    "print(tf.__version__)"
   ]
  },
  {
   "cell_type": "code",
   "execution_count": 2,
   "metadata": {},
   "outputs": [
    {
     "name": "stdout",
     "output_type": "stream",
     "text": [
      "a:  Tensor(\"Const:0\", shape=(), dtype=int32) b:  Tensor(\"b:0\", shape=(), dtype=int32)\n",
      "\n",
      "Addition with constants:  Tensor(\"add:0\", shape=(), dtype=int32)\n",
      "8\n"
     ]
    }
   ],
   "source": [
    "sess = tf.Session()\n",
    "\n",
    "a = tf.constant(5)\n",
    "b = tf.constant(3, name = \"b\")\n",
    "\n",
    "print( \"a: \" ,  a, \"b: \" ,  b )\n",
    "print( \"\\nAddition with constants: \" ,  a+b )\n",
    "\n",
    "result = tf.add(a,b,name='a_b')\n",
    "print(sess.run(result))\n",
    "sess.close()\n"
   ]
  },
  {
   "cell_type": "code",
   "execution_count": 3,
   "metadata": {},
   "outputs": [
    {
     "name": "stdout",
     "output_type": "stream",
     "text": [
      "a: 5 b: 3\n",
      "Addition with constants: 8\n",
      "Multiplication with constants: 15\n"
     ]
    }
   ],
   "source": [
    "with tf.Session() as sess:\n",
    "    print( \"a: %i\" % sess.run(a), \"b: %i\" % sess.run(b) )\n",
    "    print( \"Addition with constants: %i\" % sess.run(a+b) )\n",
    "    print( \"Multiplication with constants: %i\" % sess.run(a*b) )"
   ]
  },
  {
   "cell_type": "code",
   "execution_count": 4,
   "metadata": {},
   "outputs": [
    {
     "name": "stdout",
     "output_type": "stream",
     "text": [
      "dos 상태에서\n",
      "tensorboard   --logdir=./experiment\n",
      "그 후, 웹브라우저에서 localhost:6006/#graphs 한다\n",
      "dos 까만 화면에서 나올 땐, ctrl 누른 상태에서 c 키를 누름\n"
     ]
    }
   ],
   "source": [
    "writer = tf.summary.FileWriter(logdir= \"./experiment\",graph = sess.graph)\n",
    "writer.close()\n",
    "print(\"dos 상태에서\")\n",
    "print(\"tensorboard   --logdir=./experiment\")\n",
    "print(\"그 후, 웹브라우저에서 localhost:6006/#graphs 한다\")\n",
    "print(\"dos 까만 화면에서 나올 땐, ctrl 누른 상태에서 c 키를 누름\")"
   ]
  },
  {
   "cell_type": "code",
   "execution_count": 5,
   "metadata": {},
   "outputs": [],
   "source": [
    "# Simple hello world using TensorFlow\n",
    "\n",
    "# Create a Constant op\n",
    "# The op is added as a node to the default graph.\n",
    "#\n",
    "# The value returned by the constructor represents the output\n",
    "# of the Constant op.\n",
    "\n",
    "hello = tf.constant('Hello, TensorFlow!')\n",
    "# print(hello) 하면 어떤 에러가 나오는가 ?\n",
    "# print(sess.run(hello)) 여기서 이것 하면 어떤 에러 ?\n",
    "# RuntimeError: Attempted to use a closed Session."
   ]
  },
  {
   "cell_type": "code",
   "execution_count": 6,
   "metadata": {},
   "outputs": [],
   "source": [
    "a = tf.placeholder(tf.int16)\n",
    "b = tf.placeholder(tf.int16)\n",
    "# Define some operations\n",
    "add = tf.add(a, b)\n",
    "mul = tf.multiply(a, b)\n",
    "c = tf.Variable( 3 )\n",
    "d = tf.placeholder( dtype = tf.float32, shape=None )\n",
    "# print(sess.run(c)) = 14\n",
    "# c = tf.Variable( 3 , dtype=tf.float32 ) sms 14.0 \n",
    "# c 는 변수 variable not constant"
   ]
  },
  {
   "cell_type": "code",
   "execution_count": 7,
   "metadata": {},
   "outputs": [
    {
     "name": "stdout",
     "output_type": "stream",
     "text": [
      "Addition with variables: 5\n",
      "Multiplication with variables: 6\n",
      "b'Hello, TensorFlow!'\n",
      "14\n",
      "[1. 1. 3. 5.]\n"
     ]
    }
   ],
   "source": [
    "with tf.Session() as sess:\n",
    "    # Run every operation with variable input\n",
    "    print( \"Addition with variables: %i\" % sess.run(add, feed_dict={a: 2, b: 3}) )\n",
    "    print( \"Multiplication with variables: %i\" % sess.run(mul, feed_dict={a: 2, b: 3}) )\n",
    "    print(sess.run(hello))\n",
    "    print(sess.run(c, feed_dict = {c:14}))\n",
    "    print(sess.run(d, feed_dict = {d:[1,1,3,5]}))"
   ]
  },
  {
   "cell_type": "code",
   "execution_count": 8,
   "metadata": {},
   "outputs": [
    {
     "name": "stdout",
     "output_type": "stream",
     "text": [
      "[[12.]]\n"
     ]
    }
   ],
   "source": [
    "matrix1 = tf.constant([[3., 3.]])\n",
    "matrix2 = tf.constant([[2.],[2.]])\n",
    "product = tf.matmul(matrix1, matrix2)\n",
    "sess = tf.Session()\n",
    "result = sess.run(product)\n",
    "print( result )"
   ]
  },
  {
   "cell_type": "code",
   "execution_count": 9,
   "metadata": {},
   "outputs": [
    {
     "name": "stdout",
     "output_type": "stream",
     "text": [
      "[[ 0.8821813  1.225643 ]\n",
      " [-4.1175017  4.848378 ]]\n"
     ]
    }
   ],
   "source": [
    "X = tf.placeholder( tf.float32, [None, 3])\n",
    "\n",
    "W = tf.Variable(  tf.random_normal([3, 2]))\n",
    "b = tf.Variable(  tf.random_normal([2, 1]))\n",
    "# W = tf.Variable( [0.1, 0.1], [0.2, 0.2], [0.3, 0.3] )\n",
    "expr = tf.matmul(  X, W ) + b\n",
    "\n",
    "x_data = [ [1,2,3], [4,5,6] ]\n",
    "init = tf.global_variables_initializer()\n",
    "sess.run( init )\n",
    "# sess.run( tf.global_variables_initializer() )\n",
    "# 바로 아래 :  Attempting to use uninitialized value Variable_22\n",
    "val = sess.run( expr, feed_dict={X: x_data} ) \n",
    "print(val)"
   ]
  },
  {
   "cell_type": "code",
   "execution_count": 10,
   "metadata": {},
   "outputs": [
    {
     "name": "stdout",
     "output_type": "stream",
     "text": [
      "dos 상태에서\n",
      "tensorboard   --logdir=./experiment\n",
      "그 후, 웹브라우저에서 localhost:6006/#graphs 한다\n",
      "dos 까만 화면에서 나올 땐, ctrl 누른 상태에서 c 키를 누름\n"
     ]
    }
   ],
   "source": [
    "writer = tf.summary.FileWriter(logdir= \"./experiment\",graph = sess.graph)\n",
    "writer.close()\n",
    "sess.close()\n",
    "print(\"dos 상태에서\")\n",
    "print(\"tensorboard   --logdir=./experiment\")\n",
    "print(\"그 후, 웹브라우저에서 localhost:6006/#graphs 한다\")\n",
    "print(\"dos 까만 화면에서 나올 땐, ctrl 누른 상태에서 c 키를 누름\")"
   ]
  },
  {
   "cell_type": "code",
   "execution_count": null,
   "metadata": {},
   "outputs": [],
   "source": []
  },
  {
   "cell_type": "code",
   "execution_count": null,
   "metadata": {},
   "outputs": [],
   "source": []
  },
  {
   "cell_type": "code",
   "execution_count": null,
   "metadata": {},
   "outputs": [],
   "source": []
  },
  {
   "cell_type": "code",
   "execution_count": null,
   "metadata": {},
   "outputs": [],
   "source": []
  },
  {
   "cell_type": "code",
   "execution_count": null,
   "metadata": {},
   "outputs": [],
   "source": []
  },
  {
   "cell_type": "code",
   "execution_count": null,
   "metadata": {},
   "outputs": [],
   "source": []
  },
  {
   "cell_type": "code",
   "execution_count": null,
   "metadata": {},
   "outputs": [],
   "source": []
  }
 ],
 "metadata": {
  "kernelspec": {
   "display_name": "Python 3",
   "language": "python",
   "name": "python3"
  },
  "language_info": {
   "codemirror_mode": {
    "name": "ipython",
    "version": 3
   },
   "file_extension": ".py",
   "mimetype": "text/x-python",
   "name": "python",
   "nbconvert_exporter": "python",
   "pygments_lexer": "ipython3",
   "version": "3.6.4"
  }
 },
 "nbformat": 4,
 "nbformat_minor": 1
}
